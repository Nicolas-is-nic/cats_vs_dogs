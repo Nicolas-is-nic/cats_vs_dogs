{
 "cells": [
  {
   "cell_type": "code",
   "execution_count": 1,
   "metadata": {},
   "outputs": [],
   "source": [
    "import tools\n",
    "import tensorflow as tf"
   ]
  },
  {
   "cell_type": "code",
   "execution_count": null,
   "metadata": {},
   "outputs": [],
   "source": [
    "def cats_vs_dogs_cnn(x, n_classes, is_pretrain=True):\n",
    "    #x就是image：[batch_size, width, height, channels]\n",
    "    x = tools.conv('conv1', x, 16, kernel_size=[3,3], stride=[1,1,1,1], is_pretrain=is_pretrain)\n",
    "    x = tools.pool('pool1', x, kernel=[1,3,3,1], stride=[1,2,2,1], is_max_pool=True)\n",
    "    \n",
    "    x = tools.conv('conv2', x, 16, kernel_size=[3,3], stride=[1,1,1,1], is_pretrain=is_pretrain)\n",
    "    x = tools.pool('pool2', x, kernel=[1,3,3,1], stride=[1,1,1,1], is_max_pool=True)\n",
    "    \n",
    "    x = tools.FC_layer('fc3', x, out_nodes=128)\n",
    "    x =tools.batch_norm(x)\n",
    "    x = tools.FC_layer('fc4', x, out_nodes=128)\n",
    "    x =tools.batch_norm(x)\n",
    "    \n",
    "    return x\n",
    "        "
   ]
  }
 ],
 "metadata": {
  "kernelspec": {
   "display_name": "Python 3",
   "language": "python",
   "name": "python3"
  },
  "language_info": {
   "codemirror_mode": {
    "name": "ipython",
    "version": 3
   },
   "file_extension": ".py",
   "mimetype": "text/x-python",
   "name": "python",
   "nbconvert_exporter": "python",
   "pygments_lexer": "ipython3",
   "version": "3.7.2"
  }
 },
 "nbformat": 4,
 "nbformat_minor": 2
}
