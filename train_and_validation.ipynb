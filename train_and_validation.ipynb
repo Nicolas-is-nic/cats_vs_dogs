{
 "cells": [
  {
   "cell_type": "code",
   "execution_count": null,
   "metadata": {},
   "outputs": [],
   "source": [
    "import os\n",
    "import os.path\n",
    "import matplotlib.pyplot as plt\n",
    "\n",
    "import numpy as np\n",
    "import tensorflow as tf\n",
    "\n",
    "import input_data\n",
    "import cats_vs_dogs_cnn\n",
    "import tools"
   ]
  },
  {
   "cell_type": "code",
   "execution_count": null,
   "metadata": {
    "scrolled": true
   },
   "outputs": [],
   "source": [
    "BATCH_SIZE = 32\n",
    "N_CLASSES = 2\n",
    "CAPACITY = 2000\n",
    "IMG_W = 208\n",
    "IMG_H = 208\n",
    "learning_rate = 0.001\n",
    "MAX_STEP = 15000\n",
    "IS_PRETRAIN =True\n",
    "\n",
    "def train():\n",
    "    train_dir = \"./data/train/\"\n",
    "    train_log_dir = './save_model/'\n",
    "    #test_dir = './data/test1/'\n",
    "    \n",
    "    train_image_list, train_label_list = input_data.get_files(train_dir)\n",
    "    train_image_batch, train_label_batch = input_data.get_batch(train_image_list, train_label_list, IMG_W, IMG_H, BATCH_SIZE, CAPACITY)\n",
    "\n",
    "    logits = cats_vs_dogs_cnn.cats_vs_dogs_cnn(train_image_batch, N_CLASSES, IS_PRETRAIN)\n",
    "    loss = tools.loss(logits, train_label_batch)\n",
    "    accuracy = tools.accuracy(logits, train_label_batch)\n",
    "    my_global_step = tf.Variable(0, name='global_step', trainable=False)\n",
    "    train_op = tools.optimize(loss, learning_rate, my_global_step)\n",
    "    \n",
    "    x = tf.placeholder(tf.float32, shape=[BATCH_SIZE, IMG_W, IMG_H, 3])\n",
    "    y_ = tf.placeholder(tf.int16, shape=[BATCH_SIZE, N_CLASSES])\n",
    "    \n",
    "    saver = tf.train.Saver(tf.global_variables())\n",
    "    \n",
    "    init = tf.global_variables_initializer()\n",
    "    with tf.Session() as sess:\n",
    "        sess.run(init)\n",
    "\n",
    "        coord = tf.train.Coordinator()\n",
    "        threads = tf.train.start_queue_runners(sess=sess, coord=coord)\n",
    "        try:\n",
    "            for step in np.arange(MAX_STEP):\n",
    "                if coord.should_stop():\n",
    "                    break\n",
    "                tra_images, tra_labels = sess.run([train_image_batch, train_label_batch])\n",
    "                _, tra_loss, tra_acc = sess.run([train_op, loss, accuracy], feed_dict={x:tra_images, y_:tra_labels})\n",
    "\n",
    "                if step%50 == 0 or (step+1) == MAX_STEP:\n",
    "                    print('step: {}, loss: {:.4f}, accuracy: {:.4f}%%'.format(step, tra_loss, tra_acc)) \n",
    "#                     summary_str = sess.run(summary_op)\n",
    "#                     tra_summary_writer.add_summary(summary_str, step)\n",
    "                if step%2000 == 0 or (step+1) == MAX_STEP:\n",
    "                    checkpoint_path = os.path.join(train_log_dir, 'model.ckpt')\n",
    "                    saver.save(sess, checkpoint_path, global_step=step)\n",
    "\n",
    "        except tf.errors.OutOfRangeError:\n",
    "            print('Done training -- epoch limit reached')\n",
    "        finally:\n",
    "            coord.request_stop()\n",
    "        coord.join(threads)"
   ]
  },
  {
   "cell_type": "code",
   "execution_count": null,
   "metadata": {},
   "outputs": [],
   "source": [
    "if __name__ == '__main__':\n",
    "    train()"
   ]
  },
  {
   "cell_type": "code",
   "execution_count": null,
   "metadata": {},
   "outputs": [],
   "source": []
  }
 ],
 "metadata": {
  "kernelspec": {
   "display_name": "Python 3",
   "language": "python",
   "name": "python3"
  },
  "language_info": {
   "codemirror_mode": {
    "name": "ipython",
    "version": 3
   },
   "file_extension": ".py",
   "mimetype": "text/x-python",
   "name": "python",
   "nbconvert_exporter": "python",
   "pygments_lexer": "ipython3",
   "version": "3.7.2"
  }
 },
 "nbformat": 4,
 "nbformat_minor": 2
}
